{
 "cells": [
  {
   "cell_type": "markdown",
   "metadata": {},
   "source": [
    "## C1W1 \n",
    "\n",
    "Пока выкладываю решения от разработчиков курса, потому что свои я не сохранил :c"
   ]
  },
  {
   "cell_type": "markdown",
   "metadata": {},
   "source": [
    "## task1\n",
    "Дано два целых числа A и B в диапазоне от 0 до 1 000 000 включительно. Напишите программу, которая вычисляет целую часть частного от деления A на B.\n",
    "\n",
    "Если B = 0, выведите \"Impossible\".\n",
    "\n",
    "Пример\n",
    "\n",
    "stdin  | stdout\n",
    "------ | ------\n",
    "10 2   | 5\n",
    "3 5\t0  |\n",
    "11 0   | Impossible\n"
   ]
  },
  {
   "cell_type": "code",
   "execution_count": 2,
   "metadata": {},
   "outputs": [],
   "source": [
    "#include <iostream>\n",
    "using namespace std;"
   ]
  },
  {
   "cell_type": "code",
   "execution_count": null,
   "metadata": {},
   "outputs": [],
   "source": [
    "int a, b;\n",
    "cin >> a >> b;\n",
    "\n",
    "if (b == 0) {\n",
    "    cout << \"Impossible\" << endl;\n",
    "} else {\n",
    "    cout << a / b << endl;\n",
    "}"
   ]
  },
  {
   "cell_type": "markdown",
   "metadata": {},
   "source": [
    "## task2\n",
    "Написать программу вычисления стоимости покупки товара с учётом скидки. Если исходная стоимость товара больше A рублей, то на неё устанавливается скидка в X процентов. Если исходная стоимость товара больше B рублей, то на неё устанавливается скидка в Y процентов.\n",
    "\n",
    "На вход программе даны пять вещественных чисел: N, A, B, X, Y (A < B) - где N - исходная стоимость товара. Выведите стоимость покупки товара с учётом скидки.\n",
    "\n",
    "Пример\n",
    "\n",
    "stdin\t| stdout\n",
    "--------|------\n",
    "100 110 120 5 10\t| 100\n",
    "115 110 120 5 10\t|9.25\n",
    "150 110 120 5 12.5\t|131.25"
   ]
  },
  {
   "cell_type": "code",
   "execution_count": null,
   "metadata": {},
   "outputs": [],
   "source": [
    "double n, a, b, x, y;\n",
    "cin >> n >> a >> b >> x >> y;\n",
    "if (n > b) {\n",
    "    n *= (1 - y / 100);\n",
    "} else if (n > a) {\n",
    "    n *= (1 - x / 100);\n",
    "}\n",
    "cout << n;"
   ]
  },
  {
   "cell_type": "markdown",
   "metadata": {},
   "source": [
    "## task3\n",
    "Дано два целых числа A и B (A <= B, A >= 1, B <= 30000). Выведите через пробел все чётные числа от A до B (включительно).\n",
    "\n",
    "\n",
    "stdin\t| stdout\n",
    "--------|-------\n",
    "1 10\t|2 4 6 8 10\n",
    "2 3\t2 |\n",
    "9 11\t|10\n"
   ]
  },
  {
   "cell_type": "code",
   "execution_count": null,
   "metadata": {},
   "outputs": [],
   "source": [
    "int a, b;\n",
    "cin >> a >> b;\n",
    "for (int i = a; i <= b; ++i) {\n",
    "    if (i % 2 == 0) {\n",
    "        cout << i << ' ';\n",
    "    }\n",
    "}"
   ]
  },
  {
   "cell_type": "markdown",
   "metadata": {},
   "source": [
    "## task4\n",
    "Дана строка. Найдите в этой строке второе вхождение буквы f и выведите индекс этого вхождения. Если буква f в данной строке встречается только один раз, выведите число -1, а если не встречается ни разу, выведите число -2. Индексы нумеруются с нуля."
   ]
  },
  {
   "cell_type": "code",
   "execution_count": null,
   "metadata": {},
   "outputs": [],
   "source": [
    "string s;\n",
    "cin >> s;\n",
    "\n",
    "int result = -2;  // текущий ответ\n",
    "// если f ни разу не встретится, он останется равным -2\n",
    "\n",
    "for (int i = 0; i < s.size(); ++i) {\n",
    "// если текущий символ равен f, обновим текущий ответ\n",
    "if (s[i] == 'f') {\n",
    "\n",
    "  // если до этого не было ни одного вхождения, значит, сейчас нашли первое\n",
    "  if (result == -2) {\n",
    "    result = -1;  // теперь вхождение ровно одно\n",
    "\n",
    "  // до этого было ровно одно вхождение → сейчас как раз второе  \n",
    "  } else if (result == -1) {\n",
    "    result = i;\n",
    "    break;  // цикл можно завершить, потому что ответ уже найден\n",
    "  }\n",
    "\n",
    "}\n",
    "}\n",
    "\n",
    "cout << result;"
   ]
  },
  {
   "cell_type": "markdown",
   "metadata": {},
   "source": [
    "## task5\n",
    "В stdin даны два натуральных числа. Выведите в stdout их наибольший общий делитель."
   ]
  },
  {
   "cell_type": "code",
   "execution_count": null,
   "metadata": {},
   "outputs": [],
   "source": [
    "int gcd(int a, int b) {\n",
    "    while (a > 0 && b > 0) {\n",
    "        if (a > b)\n",
    "            a %= b;\n",
    "        else\n",
    "            b %= a;\n",
    "    }\n",
    "    return a + b;\n",
    "}\n",
    "\n",
    "void solve(int a, int b) {\n",
    "    cout << gcd(a, b) << endl;\n",
    "}"
   ]
  },
  {
   "cell_type": "markdown",
   "metadata": {},
   "source": [
    "## task6\n",
    "\n",
    "На вход дано целое положительное число N. Выведите его в двоичной системе счисления без ведущих нулей."
   ]
  },
  {
   "cell_type": "code",
   "execution_count": null,
   "metadata": {},
   "outputs": [],
   "source": [
    "void decToBin(int a, vector<int>& bin) {\n",
    "    do {\n",
    "        int m = a % 2;\n",
    "        a /= 2;\n",
    "        bin.push_back(m);\n",
    "    } while (a != 0);\n",
    "}\n",
    "\n",
    "void solve(int a) {\n",
    "    vector<int> bin_repr;\n",
    "    decToBin(a, bin_repr);\n",
    "\n",
    "    for (auto begin = bin_repr.rbegin(); begin != bin_repr.rend(); begin++)\n",
    "        cout << *begin;\n",
    "}"
   ]
  },
  {
   "cell_type": "code",
   "execution_count": null,
   "metadata": {},
   "outputs": [],
   "source": []
  }
 ],
 "metadata": {
  "kernelspec": {
   "display_name": "C++14",
   "language": "C++14",
   "name": "xcpp14"
  },
  "language_info": {
   "codemirror_mode": "text/x-c++src",
   "file_extension": ".cpp",
   "mimetype": "text/x-c++src",
   "name": "c++",
   "version": "14"
  }
 },
 "nbformat": 4,
 "nbformat_minor": 4
}
