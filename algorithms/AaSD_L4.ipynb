{
 "cells": [
  {
   "cell_type": "markdown",
   "metadata": {},
   "source": [
    "# Лекция 4. Нижняя оценка на сортировку. Цифровая сортировка"
   ]
  },
  {
   "cell_type": "markdown",
   "metadata": {},
   "source": [
    "Разберём сортировку подсчётом. Пусть у нас есть массив A, а в нем лежат целые элементы в диапазоне [0,m-1] $\\in \\mathbb{Z}$. Пробежимся по массиву и просто посчитаем, сколько у нас тех или иных элементов."
   ]
  },
  {
   "cell_type": "code",
   "execution_count": 3,
   "metadata": {},
   "outputs": [],
   "source": [
    "def count_sort (A: list, m): # (max: m-1)\n",
    "    c = [0] * m\n",
    "    for i in A:\n",
    "        c[i] += 1\n",
    "    # далее необходимо просто записать подряд всё что есть\n",
    "    # в примере просто выведем\n",
    "    \n",
    "    for i in range(len(c)):\n",
    "        print((str(i) + ' ') * c[i], end = ' ')"
   ]
  },
  {
   "cell_type": "code",
   "execution_count": 4,
   "metadata": {},
   "outputs": [
    {
     "name": "stdout",
     "output_type": "stream",
     "text": [
      "0  1 1 1 1  2  3 3 3 3  4 4  5  "
     ]
    }
   ],
   "source": [
    "count_sort([1,0,1,3,3,1,3,4,5,1,4,3,2], 6)"
   ]
  },
  {
   "cell_type": "markdown",
   "metadata": {},
   "source": [
    "Но при таком подходе часть информации теряется. Допустим, нам нужно отсортировать пары элементов."
   ]
  },
  {
   "cell_type": "code",
   "execution_count": 5,
   "metadata": {},
   "outputs": [],
   "source": [
    "a = [(1,0), (3,1), (2,2), (0,3), (3,4), (3,5), (2,6), (1,7)]"
   ]
  },
  {
   "cell_type": "code",
   "execution_count": 12,
   "metadata": {},
   "outputs": [],
   "source": [
    "# создадим массив с и подсчитаем сколько там каждых элементов (по 1 индексу)\n",
    "\n",
    "c = [0] * 4\n",
    "\n",
    "an = [0] * len(a)"
   ]
  },
  {
   "cell_type": "code",
   "execution_count": 13,
   "metadata": {},
   "outputs": [],
   "source": [
    "for i in a:\n",
    "    c[i[0]] += 1"
   ]
  },
  {
   "cell_type": "code",
   "execution_count": 14,
   "metadata": {},
   "outputs": [
    {
     "data": {
      "text/plain": [
       "[1, 2, 2, 3]"
      ]
     },
     "execution_count": 14,
     "metadata": {},
     "output_type": "execute_result"
    }
   ],
   "source": [
    "c"
   ]
  },
  {
   "cell_type": "code",
   "execution_count": 16,
   "metadata": {},
   "outputs": [],
   "source": [
    "# Создадим массив m в котором хранятся последние свободные индексы\n",
    "p = [0] * 4\n",
    "p[0] = 0\n",
    "\n",
    "for i in range(1, 4):\n",
    "    p[i] = p[i-1] + c[i-1]"
   ]
  },
  {
   "cell_type": "code",
   "execution_count": 17,
   "metadata": {},
   "outputs": [
    {
     "data": {
      "text/plain": [
       "[0, 1, 3, 5]"
      ]
     },
     "execution_count": 17,
     "metadata": {},
     "output_type": "execute_result"
    }
   ],
   "source": [
    "p"
   ]
  },
  {
   "cell_type": "code",
   "execution_count": 20,
   "metadata": {},
   "outputs": [],
   "source": [
    "for i in range(0, len(a)):\n",
    "    an[p[a[i][0]]] = a[i]\n",
    "    p[a[i][0]] += 1"
   ]
  },
  {
   "cell_type": "code",
   "execution_count": 21,
   "metadata": {},
   "outputs": [
    {
     "data": {
      "text/plain": [
       "[(0, 3), (1, 0), (1, 7), (2, 2), (2, 6), (3, 1), (3, 4), (3, 5)]"
      ]
     },
     "execution_count": 21,
     "metadata": {},
     "output_type": "execute_result"
    }
   ],
   "source": [
    "an"
   ]
  },
  {
   "cell_type": "markdown",
   "metadata": {},
   "source": [
    "Такой алгоритм работает за $O(n+m)$ времени, если m порядка n, то линейно!"
   ]
  },
  {
   "cell_type": "markdown",
   "metadata": {},
   "source": [
    "# Цифровая сортировка"
   ]
  },
  {
   "cell_type": "markdown",
   "metadata": {},
   "source": [
    "Пусть у нас есть массив A.\n",
    "Такой что, что $a_i \\in \\mathbb{Z} \\in [0,\\dots,m^k-1]$\n",
    "Переведём число в m-ичную систему счисления. \\\\\n",
    "\n",
    "$a[i] \\longleftrightarrow (\\alpha_0, \\alpha_1, \\dots, \\alpha_{k-1}), a_i \\in [0, m-1]$\n",
    "\n",
    "Сначала отсортируем по последней цифре, по предпоследней и т.д, не меняя порядок. Получим отсортированный массив.\n",
    "Объединим с сортировкой подсчётом. \n",
    "\n",
    "\n",
    "Для начала подсчитаем количество чисел с одинаковой последней цифрой.\n",
    "\n",
    "Затем создадим массив $p$, где $p_i = p[i-1] + c[i-1]$\n",
    "\n",
    "Далее пробежимся по исходному массиву и будем записывать в первый свободный для группы индекс наш текущий элемент\n",
    "    Будем повторять так до первой цифры. Так как мы не будем обменить числа с одинаковой $i$-той цифрой, все элементы встанут в нужном порядке.\n",
    "\n",
    "\n",
    "Оценим сложность: у нас есть массив чисел длины $n$, числа имеют длину $k$, а символы лежат в $[0, m-1]$. Нам необходимо сделать N операций на все числа, затем нужно создать массивы длины $M$, заполнять их. Но везде мы должны домножить на $k$. Итого нам нужно сделать $k$ сортировок за N+M операций. Итоговая сложность соответственно равна $O(k(N+M))$"
   ]
  },
  {
   "cell_type": "code",
   "execution_count": null,
   "metadata": {},
   "outputs": [],
   "source": []
  }
 ],
 "metadata": {
  "kernelspec": {
   "display_name": "Python 3",
   "language": "python",
   "name": "python3"
  },
  "language_info": {
   "codemirror_mode": {
    "name": "ipython",
    "version": 3
   },
   "file_extension": ".py",
   "mimetype": "text/x-python",
   "name": "python",
   "nbconvert_exporter": "python",
   "pygments_lexer": "ipython3",
   "version": "3.6.9"
  }
 },
 "nbformat": 4,
 "nbformat_minor": 4
}
