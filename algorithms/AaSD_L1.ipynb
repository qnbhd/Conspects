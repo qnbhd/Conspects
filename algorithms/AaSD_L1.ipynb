{
 "cells": [
  {
   "cell_type": "markdown",
   "metadata": {},
   "source": [
    "# Алгоритмы и структуры данных\n",
    "## Лекция 1"
   ]
  },
  {
   "cell_type": "markdown",
   "metadata": {},
   "source": [
    "Рассмотрим простейший алгоритм поиска максимума в массиве: "
   ]
  },
  {
   "cell_type": "code",
   "execution_count": 1,
   "metadata": {},
   "outputs": [],
   "source": [
    "def max_element (A: list):\n",
    "    m = -1e9 # m = -inf\n",
    "    for u in A:\n",
    "        if u > m:\n",
    "            m = u\n",
    "    return m"
   ]
  },
  {
   "cell_type": "code",
   "execution_count": 2,
   "metadata": {},
   "outputs": [
    {
     "data": {
      "text/plain": [
       "99"
      ]
     },
     "execution_count": 2,
     "metadata": {},
     "output_type": "execute_result"
    }
   ],
   "source": [
    "max_element([1,-1,20,5,7,-1,99,11])"
   ]
  },
  {
   "cell_type": "markdown",
   "metadata": {},
   "source": [
    "Оценим время работы алгоритма:\n",
    "\n",
    "def max_element (A: list):\n",
    "\n",
    "    (1) m = -1e9 # m = -inf\n",
    "    (4n)for u in A:\n",
    "        if u > m:\n",
    "            m = u\n",
    "    (1) return m\n",
    "    \n",
    "Время работы алгоритма $T(n) = c_1+c_2 \\cdot 4n +c_3$\n",
    "Говорят, что \n",
    "$T(n) = O(f(n)), f(n) = n$\n",
    "\n",
    "Это значит, что $\\exists n_0, c \\; T(n) \\leq c \\cdot f(n)$"
   ]
  },
  {
   "cell_type": "markdown",
   "metadata": {},
   "source": [
    "Рассмотрим алгоритм сортировки вставками:"
   ]
  },
  {
   "cell_type": "code",
   "execution_count": 9,
   "metadata": {},
   "outputs": [],
   "source": [
    "def insert_sort (A: list):\n",
    "    for j in range(1, len(A)):\n",
    "        key = A[j]\n",
    "        i = j - 1\n",
    "        while i >= 0 and A[i] > key:\n",
    "            A[i+1] = A[i]\n",
    "            i -= 1\n",
    "        A[i+1] = key"
   ]
  },
  {
   "cell_type": "code",
   "execution_count": 10,
   "metadata": {},
   "outputs": [
    {
     "data": {
      "text/plain": [
       "[-1, 5, 7, 34, 50, 76]"
      ]
     },
     "execution_count": 10,
     "metadata": {},
     "output_type": "execute_result"
    }
   ],
   "source": [
    "A = [5,7,-1,50,34,76]\n",
    "insert_sort(A)\n",
    "A"
   ]
  },
  {
   "cell_type": "markdown",
   "metadata": {},
   "source": [
    "Рассмотрим время работы этого алгоритма:\n",
    "\n",
    "def insert_sort (A: list):\n",
    "\n",
    "    (n-1) for j in range(1, len(A)):\n",
    "    (1)     key = A[j]\n",
    "    (1)     i = j - 1\n",
    "    (0/n)   while i >= 0 and A[i] > key:\n",
    "    (1)        A[i+1] = A[i]\n",
    "    (1)        i -= 1\n",
    "    (1)    A[i+1] = key\n",
    "    \n",
    "Итого $T(n) = (n-1)\\cdot [c_1+c_2 + \\frac{n}{2}\\cdot (c_3+c_4) + c_4]$ в среднем случае.\n",
    "Время работы алгоритма в данно случае зависит от качества массива.\n",
    "Предположим, что массив отсортирован. Тогда цикл while не прийдется выполнять вообще.\n",
    "Или обратная ситуация: массив отсортирован в обратном порядке. Тогда while нужно будет выполнить $\\frac{(n-1)n}{2}$ раз\n",
    "\n",
    "В данном случае, справедливо, что\n",
    "\n",
    "$T(n) = O(n^2)$"
   ]
  },
  {
   "cell_type": "markdown",
   "metadata": {},
   "source": [
    "## Рассмотрим теперь сортировку слиянием:"
   ]
  },
  {
   "cell_type": "code",
   "execution_count": 37,
   "metadata": {},
   "outputs": [],
   "source": [
    "def array_merge (A: list, B: list):\n",
    "    \n",
    "    C = [0] * (len(A)+len(B))\n",
    "    k, i, j = 0, 0, 0\n",
    "    \n",
    "    while i <= len(A)-1 and j <= len(B)-1:\n",
    "        \n",
    "        if A[i] <= B[j]:\n",
    "            C[k] = A[i]\n",
    "            k += 1\n",
    "            i += 1\n",
    "        else:\n",
    "            C[k] = B[j]\n",
    "            k += 1\n",
    "            j += 1\n",
    "    \n",
    "    while i <= len(A)-1:\n",
    "        C[k] = A[i]\n",
    "        k += 1\n",
    "        i += 1\n",
    "    \n",
    "    while j <= len(B)-1:\n",
    "        C[k] = B[j]\n",
    "        k += 1\n",
    "        j += 1\n",
    "        \n",
    "    return C"
   ]
  },
  {
   "cell_type": "code",
   "execution_count": 38,
   "metadata": {},
   "outputs": [],
   "source": [
    "def merge_sort (A):\n",
    "    \n",
    "    if len(A) == 1:\n",
    "        return A\n",
    "    \n",
    "    L = A[:len(A)//2]\n",
    "    R = A[len(A)//2:]\n",
    "    \n",
    "    L = merge_sort(L)\n",
    "    R = merge_sort(R)\n",
    "    \n",
    "    return array_merge(L,R)"
   ]
  },
  {
   "cell_type": "code",
   "execution_count": 39,
   "metadata": {},
   "outputs": [
    {
     "data": {
      "text/plain": [
       "[-5, 0, 1, 3, 4, 5, 5, 5, 8, 9, 11]"
      ]
     },
     "execution_count": 39,
     "metadata": {},
     "output_type": "execute_result"
    }
   ],
   "source": [
    "merge_sort ([5,9,1,5,4,8,3,11,5,0,-5])"
   ]
  },
  {
   "cell_type": "markdown",
   "metadata": {},
   "source": [
    "Время работы такого алгоритма $O(n\\cdot log n)$"
   ]
  },
  {
   "cell_type": "markdown",
   "metadata": {},
   "source": [
    "Докажем, что $T(n) = O(n \\cdot log n)$\n",
    "\n",
    "Воспользуемся математической индукцией:\n",
    "\n",
    "$T(n) \\leq c n log_2 n$\n",
    "\n",
    "Для $n=2$ очевидно, это выполняется.\n",
    "\n",
    "$T(n) \\leq cn + 2T(\\frac{n}{2}) \\leq cn + 2 c \\frac{n}{2} log_2 \\frac{n}{2} = cn + cn (log_2(n)-1) = cn log_2 (n)$ "
   ]
  },
  {
   "cell_type": "code",
   "execution_count": null,
   "metadata": {},
   "outputs": [],
   "source": []
  }
 ],
 "metadata": {
  "kernelspec": {
   "display_name": "Python 3",
   "language": "python",
   "name": "python3"
  },
  "language_info": {
   "codemirror_mode": {
    "name": "ipython",
    "version": 3
   },
   "file_extension": ".py",
   "mimetype": "text/x-python",
   "name": "python",
   "nbconvert_exporter": "python",
   "pygments_lexer": "ipython3",
   "version": "3.7.6"
  }
 },
 "nbformat": 4,
 "nbformat_minor": 4
}
