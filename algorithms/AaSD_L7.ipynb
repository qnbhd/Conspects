{
 "cells": [
  {
   "cell_type": "markdown",
   "metadata": {},
   "source": [
    "# Система непересекающихся множеств"
   ]
  },
  {
   "cell_type": "markdown",
   "metadata": {},
   "source": [
    "$\\def\\Un{\\operatorname{Union}}$\n",
    "$\\def\\Find{\\operatorname{Find}}$\n",
    "$\\def\\MakeSet{\\operatorname{MakeSet}}$\n",
    "\n",
    "![Иллюстрация к проекту](https://habrastorage.org/storage/6cf7f9c4/e6848578/0bf0505b/5d3ded44.png)"
   ]
  },
  {
   "cell_type": "markdown",
   "metadata": {},
   "source": [
    "Система непересекающихся множеств - иерархическая структура данных, позволяющая эффективно работать с множествами."
   ]
  },
  {
   "cell_type": "markdown",
   "metadata": {},
   "source": [
    "В самом начале есть лишь разбросанные элементы, которые по сути являются множествами из одного элемента. Будут введены две операции: $\\operatorname{Union(x, y)}, \\Find(x), \\MakeSet(x)$\n",
    "\n",
    "$\\operatorname{Union}(x, y)$ - будет объединять два множества в одно, а $\\Find(x)$ - говорить в каком множестве лежит $х$. Точнее, мы будем выбирать какого-то представителя множества и на $\\Find$ выдавать именно его. Представителем множества может являться любой элемент множества.\n",
    "$\\MakeSet(x)$ - создаёт множество из одного элемента $x$.\n",
    "    \n",
    "Рассмотрим несколько вариантов реализации данной структуры данных.\n",
    "\n",
    "Первый вариант. Создадим массив $\\mathcal{P}$, где $\\mathcal{P}_i$ - представитель множества, в котором содержится элемент $i$. Нумерация с 1.\n"
   ]
  },
  {
   "cell_type": "code",
   "execution_count": 1,
   "metadata": {},
   "outputs": [],
   "source": [
    "class DisjointSetForest_Naive1:\n",
    "    \n",
    "    def __init__(self): \n",
    "        self.p = list()\n",
    "        \n",
    "    def MakeSet(self, x): \n",
    "        self.p.append(x)\n",
    "        \n",
    "    def Find(self, x):\n",
    "        if x < len(self.p):\n",
    "            return self.p[x-1]\n",
    "    \n",
    "    def Print(self):\n",
    "        print(self.p)\n",
    "    \n",
    "    def Union(self, x, y):\n",
    "        x, y = self.Find(x), self.Find(y)\n",
    "        if x == y:\n",
    "            pass\n",
    "        for i in range(len(self.p)):\n",
    "            if self.p[i] == x:\n",
    "                self.p[i] = y"
   ]
  },
  {
   "cell_type": "code",
   "execution_count": 2,
   "metadata": {},
   "outputs": [],
   "source": [
    "dsf = DisjointSetForest_Naive1()"
   ]
  },
  {
   "cell_type": "code",
   "execution_count": 3,
   "metadata": {},
   "outputs": [],
   "source": [
    "dsf.MakeSet(1)"
   ]
  },
  {
   "cell_type": "code",
   "execution_count": 4,
   "metadata": {},
   "outputs": [
    {
     "name": "stdout",
     "output_type": "stream",
     "text": [
      "[1]\n"
     ]
    }
   ],
   "source": [
    "dsf.Print()"
   ]
  },
  {
   "cell_type": "code",
   "execution_count": 5,
   "metadata": {},
   "outputs": [],
   "source": [
    "dsf.MakeSet(2)"
   ]
  },
  {
   "cell_type": "code",
   "execution_count": 6,
   "metadata": {},
   "outputs": [],
   "source": [
    "dsf.MakeSet(3)\n",
    "dsf.MakeSet(4)\n",
    "dsf.MakeSet(5)\n",
    "dsf.MakeSet(6)\n",
    "dsf.MakeSet(7)"
   ]
  },
  {
   "cell_type": "code",
   "execution_count": 7,
   "metadata": {},
   "outputs": [
    {
     "name": "stdout",
     "output_type": "stream",
     "text": [
      "[1, 2, 3, 4, 5, 6, 7]\n"
     ]
    }
   ],
   "source": [
    "dsf.Print()"
   ]
  },
  {
   "cell_type": "code",
   "execution_count": 8,
   "metadata": {},
   "outputs": [
    {
     "data": {
      "text/plain": [
       "3"
      ]
     },
     "execution_count": 8,
     "metadata": {},
     "output_type": "execute_result"
    }
   ],
   "source": [
    "dsf.Find(3)"
   ]
  },
  {
   "cell_type": "code",
   "execution_count": 9,
   "metadata": {},
   "outputs": [],
   "source": [
    "dsf.Union(1, 3)"
   ]
  },
  {
   "cell_type": "code",
   "execution_count": 10,
   "metadata": {},
   "outputs": [
    {
     "name": "stdout",
     "output_type": "stream",
     "text": [
      "[3, 2, 3, 4, 5, 6, 7]\n"
     ]
    }
   ],
   "source": [
    "dsf.Print()"
   ]
  },
  {
   "cell_type": "code",
   "execution_count": 11,
   "metadata": {},
   "outputs": [],
   "source": [
    "dsf.Union(4, 5)"
   ]
  },
  {
   "cell_type": "code",
   "execution_count": 13,
   "metadata": {},
   "outputs": [],
   "source": [
    "dsf.Union(6, 5)"
   ]
  },
  {
   "cell_type": "code",
   "execution_count": 14,
   "metadata": {},
   "outputs": [
    {
     "name": "stdout",
     "output_type": "stream",
     "text": [
      "[3, 2, 3, 5, 5, 5, 7]\n"
     ]
    }
   ],
   "source": [
    "dsf.Print()"
   ]
  },
  {
   "cell_type": "markdown",
   "metadata": {},
   "source": [
    "Также можно хранить \"списки подчиненных\" для каждой вершины. И использовать хак с подвязкой по размеру. Выгоднее будет подвязывать маленькие множества к большим. Так как пробегаться в итоге нужно будет по меньшему количеству."
   ]
  },
  {
   "cell_type": "markdown",
   "metadata": {},
   "source": [
    "Мы же рассмотрим вариант представления в виде деревьев.\n",
    "Пусть каждая вершина будет знать своего родителя. А родителем является представитель множества. \n",
    "Обозначим - $\\operatorname{Rep}(x)$ - представитель множества\n",
    "\n",
    "$\\mathcal{P}$ - массив, такой что \n",
    "$\\mathcal{P}_i = \\begin{cases}\n",
    "                    i & i = \\operatorname{Rep}(i) \\\\\n",
    "                    \\operatorname{Rep}(i) & \\text{иначе}\n",
    "                 \\end{cases}$\n"
   ]
  },
  {
   "cell_type": "code",
   "execution_count": 35,
   "metadata": {},
   "outputs": [],
   "source": [
    "class DisjointSetForest_Tree:\n",
    "    \n",
    "    def __init__(self):\n",
    "        self.p = list()\n",
    "        self.p.append(-1)\n",
    "        \n",
    "    def MakeSet(self, x):\n",
    "        self.p.append(x)\n",
    "        \n",
    "    def Find(self, x):\n",
    "        while self.p[x] != x:\n",
    "            x = self.p[x]\n",
    "        return x\n",
    "\n",
    "    def Union(self, x, y):\n",
    "        x, y = self.Find(x), self.Find(y)\n",
    "        self.p[x] = y\n",
    "        \n",
    "    def Print(self):\n",
    "        print(self.p[1:])"
   ]
  },
  {
   "cell_type": "code",
   "execution_count": 36,
   "metadata": {},
   "outputs": [],
   "source": [
    "dsj = DisjointSetForest_Tree()"
   ]
  },
  {
   "cell_type": "code",
   "execution_count": 37,
   "metadata": {},
   "outputs": [],
   "source": [
    "dsj.MakeSet(1)\n",
    "dsj.MakeSet(2)\n",
    "dsj.MakeSet(3)\n",
    "dsj.MakeSet(4)\n",
    "dsj.MakeSet(5)"
   ]
  },
  {
   "cell_type": "code",
   "execution_count": 38,
   "metadata": {},
   "outputs": [
    {
     "name": "stdout",
     "output_type": "stream",
     "text": [
      "[1, 2, 3, 4, 5]\n"
     ]
    }
   ],
   "source": [
    "dsj.Print()"
   ]
  },
  {
   "cell_type": "code",
   "execution_count": 39,
   "metadata": {},
   "outputs": [],
   "source": [
    "dsj.Union(1, 2)"
   ]
  },
  {
   "cell_type": "code",
   "execution_count": 40,
   "metadata": {},
   "outputs": [
    {
     "name": "stdout",
     "output_type": "stream",
     "text": [
      "[2, 2, 3, 4, 5]\n"
     ]
    }
   ],
   "source": [
    "dsj.Print()"
   ]
  },
  {
   "cell_type": "code",
   "execution_count": 41,
   "metadata": {},
   "outputs": [],
   "source": [
    "dsj.Union(3,2)"
   ]
  },
  {
   "cell_type": "code",
   "execution_count": 42,
   "metadata": {},
   "outputs": [
    {
     "name": "stdout",
     "output_type": "stream",
     "text": [
      "[2, 2, 2, 4, 5]\n"
     ]
    }
   ],
   "source": [
    "dsj.Print()"
   ]
  },
  {
   "cell_type": "code",
   "execution_count": 43,
   "metadata": {},
   "outputs": [
    {
     "data": {
      "text/plain": [
       "2"
      ]
     },
     "execution_count": 43,
     "metadata": {},
     "output_type": "execute_result"
    }
   ],
   "source": [
    "dsj.Find(1)"
   ]
  },
  {
   "cell_type": "code",
   "execution_count": 44,
   "metadata": {},
   "outputs": [],
   "source": [
    "dsj.Union(4, 3)"
   ]
  },
  {
   "cell_type": "code",
   "execution_count": 45,
   "metadata": {},
   "outputs": [
    {
     "name": "stdout",
     "output_type": "stream",
     "text": [
      "[2, 2, 2, 2, 5]\n"
     ]
    }
   ],
   "source": [
    "dsj.Print()"
   ]
  },
  {
   "cell_type": "code",
   "execution_count": 46,
   "metadata": {},
   "outputs": [],
   "source": [
    "dsj.Union(1, 5)"
   ]
  },
  {
   "cell_type": "code",
   "execution_count": 47,
   "metadata": {},
   "outputs": [
    {
     "name": "stdout",
     "output_type": "stream",
     "text": [
      "[2, 5, 2, 2, 5]\n"
     ]
    }
   ],
   "source": [
    "dsj.Print()"
   ]
  },
  {
   "cell_type": "code",
   "execution_count": 48,
   "metadata": {},
   "outputs": [],
   "source": [
    "dsj.Union(0, 5)"
   ]
  },
  {
   "cell_type": "code",
   "execution_count": 49,
   "metadata": {},
   "outputs": [
    {
     "name": "stdout",
     "output_type": "stream",
     "text": [
      "[2, 5, 2, 2, 5]\n"
     ]
    }
   ],
   "source": [
    "dsj.Print()"
   ]
  },
  {
   "cell_type": "markdown",
   "metadata": {},
   "source": [
    "В целом, такой вариант тоже работает. Для простоты был введен фиктивный элемент на 0 позиции. Можно достичь ускорения за счет того, что мы будем подвязывать меньшие деревья к большим. Сделаем полную реализацию вместе с хранением каких-нибудь данных, пусть, это будут, допустим строки."
   ]
  },
  {
   "cell_type": "code",
   "execution_count": 328,
   "metadata": {},
   "outputs": [],
   "source": [
    "class DisjointSetForest_Tree_Final:\n",
    "    \n",
    "    def __init__(self):\n",
    "        self.p = list()\n",
    "        self.length = 0\n",
    "        self.par_sizes = []\n",
    "        \n",
    "    def MakeSet(self, value):\n",
    "        self.p.append([self.length, value])\n",
    "        self.length += 1 \n",
    "        self.par_sizes.append(1)\n",
    "        \n",
    "    def __GetIdx(self, value):\n",
    "        idx = -1\n",
    "        for par, val in self.p:\n",
    "            if val == value:\n",
    "                idx = par\n",
    "                break\n",
    "        if idx == -1:\n",
    "            raise Exception(\"Not finded element in set\")\n",
    "        return idx\n",
    "        \n",
    "    def Find(self, x):\n",
    "        idx = self.__GetIdx(x)\n",
    "        \"\"\"while self.p[idx][0] != idx:\n",
    "            idx = self.p[idx][0]\"\"\"\n",
    "        # улучшение:\n",
    "        while self.p[idx][0] != idx:\n",
    "            self.p[idx][0] = self.Find(self.p[idx][1])\n",
    "        return self.p[idx][0]\n",
    "    \n",
    "    def Union(self, value1, value2):\n",
    "        x, y = self.Find(value1), self.Find(value2)\n",
    "            \n",
    "        self.p[x][0] = y\n",
    "        self.par_sizes[y] += 1\n",
    "    \n",
    "    def Print(self):\n",
    "        i = 0\n",
    "        for parent, value in self.p:\n",
    "            print(\"<{0}> [Parent: {1}, value: {2}]\".format(i, parent, value))\n",
    "            i += 1\n",
    "        print(self.par_sizes)\n",
    "            "
   ]
  },
  {
   "cell_type": "code",
   "execution_count": 329,
   "metadata": {},
   "outputs": [],
   "source": [
    "dsjf = DisjointSetForest_Tree_Final()"
   ]
  },
  {
   "cell_type": "code",
   "execution_count": 330,
   "metadata": {},
   "outputs": [],
   "source": [
    "dsjf.MakeSet(\"Иван\")"
   ]
  },
  {
   "cell_type": "code",
   "execution_count": 331,
   "metadata": {},
   "outputs": [
    {
     "name": "stdout",
     "output_type": "stream",
     "text": [
      "<0> [Parent: 0, value: Иван]\n",
      "[1]\n"
     ]
    }
   ],
   "source": [
    "dsjf.Print()"
   ]
  },
  {
   "cell_type": "code",
   "execution_count": 332,
   "metadata": {},
   "outputs": [],
   "source": [
    "dsjf.MakeSet(\"Костя\")\n",
    "dsjf.MakeSet(\"Кирилл\")\n",
    "dsjf.MakeSet(\"Сергей\")\n",
    "dsjf.MakeSet(\"Наташа\")"
   ]
  },
  {
   "cell_type": "code",
   "execution_count": 333,
   "metadata": {},
   "outputs": [
    {
     "name": "stdout",
     "output_type": "stream",
     "text": [
      "<0> [Parent: 0, value: Иван]\n",
      "<1> [Parent: 1, value: Костя]\n",
      "<2> [Parent: 2, value: Кирилл]\n",
      "<3> [Parent: 3, value: Сергей]\n",
      "<4> [Parent: 4, value: Наташа]\n",
      "[1, 1, 1, 1, 1]\n"
     ]
    }
   ],
   "source": [
    "dsjf.Print()"
   ]
  },
  {
   "cell_type": "code",
   "execution_count": 334,
   "metadata": {},
   "outputs": [
    {
     "data": {
      "text/plain": [
       "1"
      ]
     },
     "execution_count": 334,
     "metadata": {},
     "output_type": "execute_result"
    }
   ],
   "source": [
    "dsjf.Find(\"Костя\")"
   ]
  },
  {
   "cell_type": "code",
   "execution_count": 335,
   "metadata": {},
   "outputs": [],
   "source": [
    "dsjf.Union(\"Костя\", \"Наташа\")"
   ]
  },
  {
   "cell_type": "code",
   "execution_count": 336,
   "metadata": {},
   "outputs": [
    {
     "name": "stdout",
     "output_type": "stream",
     "text": [
      "<0> [Parent: 0, value: Иван]\n",
      "<1> [Parent: 4, value: Костя]\n",
      "<2> [Parent: 2, value: Кирилл]\n",
      "<3> [Parent: 3, value: Сергей]\n",
      "<4> [Parent: 4, value: Наташа]\n",
      "[1, 1, 1, 1, 2]\n"
     ]
    }
   ],
   "source": [
    "dsjf.Print()"
   ]
  },
  {
   "cell_type": "code",
   "execution_count": 337,
   "metadata": {},
   "outputs": [],
   "source": [
    "dsjf.Union(\"Костя\", \"Сергей\")"
   ]
  },
  {
   "cell_type": "code",
   "execution_count": 338,
   "metadata": {},
   "outputs": [
    {
     "name": "stdout",
     "output_type": "stream",
     "text": [
      "<0> [Parent: 0, value: Иван]\n",
      "<1> [Parent: 4, value: Костя]\n",
      "<2> [Parent: 2, value: Кирилл]\n",
      "<3> [Parent: 3, value: Сергей]\n",
      "<4> [Parent: 3, value: Наташа]\n",
      "[1, 1, 1, 2, 2]\n"
     ]
    }
   ],
   "source": [
    "dsjf.Print()"
   ]
  },
  {
   "cell_type": "code",
   "execution_count": 339,
   "metadata": {},
   "outputs": [],
   "source": [
    "dsjf.Union(\"Кирилл\", \"Сергей\")"
   ]
  },
  {
   "cell_type": "code",
   "execution_count": 340,
   "metadata": {},
   "outputs": [
    {
     "name": "stdout",
     "output_type": "stream",
     "text": [
      "<0> [Parent: 0, value: Иван]\n",
      "<1> [Parent: 4, value: Костя]\n",
      "<2> [Parent: 3, value: Кирилл]\n",
      "<3> [Parent: 3, value: Сергей]\n",
      "<4> [Parent: 3, value: Наташа]\n",
      "[1, 1, 1, 3, 2]\n"
     ]
    }
   ],
   "source": [
    "dsjf.Print()"
   ]
  },
  {
   "cell_type": "markdown",
   "metadata": {},
   "source": [
    "$\\operatorname{\\_\\_GetIdx(x)}$ работает за $O(n)$ в худшем случае. (Это из-за хранения значений на вершинах).\n",
    "\n",
    "Также нет смысла каждый раз искать родителя. Можно в $\\Find(x)$ сразу записывать нужного родителя. \n",
    "\n",
    "$\\Find(x)$ - если дерево получается вырожденным, то в худшем случае - $O(n)$.\n",
    "$\\Un(x)$ работает также. Но можно сделать одно простое улучшение. Тогда дерево не станет вырожденным и будет ускорение операций. Необходимо подвешивать меньшее дерево к большему (можно использовать глубину, можно количество вершин)\n",
    "\n",
    "Без хранения значений на вершинах можно получить хорошую скорость порядка итерационного логарифма. А на самом деле <b>Функции Аккермана</b>"
   ]
  }
 ],
 "metadata": {
  "kernelspec": {
   "display_name": "Python 3",
   "language": "python",
   "name": "python3"
  },
  "language_info": {
   "codemirror_mode": {
    "name": "ipython",
    "version": 3
   },
   "file_extension": ".py",
   "mimetype": "text/x-python",
   "name": "python",
   "nbconvert_exporter": "python",
   "pygments_lexer": "ipython3",
   "version": "3.7.6"
  }
 },
 "nbformat": 4,
 "nbformat_minor": 4
}
