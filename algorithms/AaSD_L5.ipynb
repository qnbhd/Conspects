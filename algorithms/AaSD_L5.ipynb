{
 "cells": [
  {
   "cell_type": "markdown",
   "metadata": {},
   "source": [
    "# Двоичный поиск"
   ]
  },
  {
   "cell_type": "markdown",
   "metadata": {},
   "source": [
    "Пусть у нас есть отсортированный массив A. Требуется проверить (и найти, если есть) расположение элемента x."
   ]
  },
  {
   "cell_type": "markdown",
   "metadata": {},
   "source": [
    "Идея бин-поиска состоит в том, чтобы взять элемент посередине массива (m). l, r - левая и правая границы соответственно. Если этот элемент меньше x. То нужно искать в промежутке $[m; r]$. Иначе в промежутке $[l; m]$.\n",
    "Инвариант состоит в том, что $a[l] < x < a[r]$\n"
   ]
  },
  {
   "cell_type": "code",
   "execution_count": 26,
   "metadata": {},
   "outputs": [],
   "source": [
    "def find (A, x):\n",
    "    l = -1\n",
    "    r = len(A)\n",
    "    \n",
    "    while r - l > 1:\n",
    "        \n",
    "        mid = (r+l)//2\n",
    "        \n",
    "        if A[mid] == x:\n",
    "            return mid\n",
    "        if A[mid] < x:\n",
    "            l = mid+1\n",
    "        else:\n",
    "            r = mid\n",
    "    \n",
    "    return -1"
   ]
  },
  {
   "cell_type": "code",
   "execution_count": 84,
   "metadata": {},
   "outputs": [
    {
     "data": {
      "text/plain": [
       "12"
      ]
     },
     "execution_count": 84,
     "metadata": {},
     "output_type": "execute_result"
    }
   ],
   "source": [
    "A = [1,3,4,7,8,9,9,9,9,11,15,19,20]\n",
    "\n",
    "find(A, 20)"
   ]
  },
  {
   "cell_type": "code",
   "execution_count": 92,
   "metadata": {},
   "outputs": [],
   "source": [
    "def find2 (A, x): # найдем такой максимальный A[i], что A[i] <= x\n",
    "    # inv: a_l <= x < a_r\n",
    "    l = -1\n",
    "    r = len(A)\n",
    "    \n",
    "    while r - l > 1:\n",
    "        mid = (l+r)//2\n",
    "        if A[mid] <= x:\n",
    "            l = mid\n",
    "        if A[mid] > x:\n",
    "            r = mid\n",
    "    \n",
    "    return l"
   ]
  },
  {
   "cell_type": "code",
   "execution_count": 93,
   "metadata": {},
   "outputs": [
    {
     "data": {
      "text/plain": [
       "8"
      ]
     },
     "execution_count": 93,
     "metadata": {},
     "output_type": "execute_result"
    }
   ],
   "source": [
    "find2 (A, 9)"
   ]
  },
  {
   "cell_type": "code",
   "execution_count": 94,
   "metadata": {},
   "outputs": [],
   "source": [
    "def find3 (A, x): # то же самое, но найдем minA[i] >= x\n",
    "    l = -1\n",
    "    r = len(A)\n",
    "    \n",
    "    while r - l > 1:\n",
    "        mid = (l+r)//2\n",
    "        \n",
    "        if A[mid] < x:\n",
    "            l = mid\n",
    "        if A[mid] >= x:\n",
    "            r = mid\n",
    "    \n",
    "    return r"
   ]
  },
  {
   "cell_type": "code",
   "execution_count": 95,
   "metadata": {},
   "outputs": [
    {
     "data": {
      "text/plain": [
       "5"
      ]
     },
     "execution_count": 95,
     "metadata": {},
     "output_type": "execute_result"
    }
   ],
   "source": [
    "find3 (A, 9)"
   ]
  },
  {
   "cell_type": "code",
   "execution_count": 89,
   "metadata": {},
   "outputs": [],
   "source": [
    "# Посчитаем сколько элементов, равных х\n",
    "\n",
    "def ffind (A, x):\n",
    "    return find2(A,x) - find3(A,x) + 1"
   ]
  },
  {
   "cell_type": "code",
   "execution_count": 91,
   "metadata": {},
   "outputs": [
    {
     "data": {
      "text/plain": [
       "4"
      ]
     },
     "execution_count": 91,
     "metadata": {},
     "output_type": "execute_result"
    }
   ],
   "source": [
    "ffind(A, 9)"
   ]
  },
  {
   "cell_type": "markdown",
   "metadata": {},
   "source": [
    "## Вещественный бинпоиск"
   ]
  },
  {
   "cell_type": "markdown",
   "metadata": {},
   "source": [
    "Пусть у нас есть какая-то функция $f(x)$ мы хотим найти её корень, предположим мы знаем левую и правую границы.\n",
    "Инвариант: $f(left) < 0 < f(right)$. Есть несколько вариантов. Допустим, мы хотим найти корень с какой-то точностью."
   ]
  },
  {
   "cell_type": "code",
   "execution_count": 205,
   "metadata": {},
   "outputs": [],
   "source": [
    "eps = 1e-5"
   ]
  },
  {
   "cell_type": "code",
   "execution_count": 157,
   "metadata": {},
   "outputs": [],
   "source": [
    "def find_zero (f, left, right):\n",
    "    while right - left > eps:\n",
    "        m = (left+right)/2\n",
    "\n",
    "        if f(m) < 0:\n",
    "            left = m\n",
    "        if f(m) == 0:\n",
    "            return m\n",
    "        else:\n",
    "            right = m\n",
    "        \n",
    "\n",
    "    return right"
   ]
  },
  {
   "cell_type": "code",
   "execution_count": 182,
   "metadata": {},
   "outputs": [],
   "source": [
    "def xx (x):\n",
    "    return x**2 - 1"
   ]
  },
  {
   "cell_type": "code",
   "execution_count": 183,
   "metadata": {},
   "outputs": [
    {
     "data": {
      "text/plain": [
       "0.75"
      ]
     },
     "execution_count": 183,
     "metadata": {},
     "output_type": "execute_result"
    }
   ],
   "source": [
    "find_zero (xx, 0, 3)"
   ]
  },
  {
   "cell_type": "code",
   "execution_count": 184,
   "metadata": {},
   "outputs": [],
   "source": [
    "def find_zero2 (f, left, right):\n",
    "    for i in range(100):\n",
    "        mid = (left + right) / 2\n",
    "        if f(mid) == 0:\n",
    "            return mid\n",
    "        if f(mid) < 0:\n",
    "            left = mid\n",
    "        else:\n",
    "            right = mid\n",
    "    return left"
   ]
  },
  {
   "cell_type": "code",
   "execution_count": 186,
   "metadata": {},
   "outputs": [
    {
     "data": {
      "text/plain": [
       "1.0"
      ]
     },
     "execution_count": 186,
     "metadata": {},
     "output_type": "execute_result"
    }
   ],
   "source": [
    "find_zero2 (xx, 0, 5)"
   ]
  },
  {
   "cell_type": "markdown",
   "metadata": {},
   "source": [
    "## Троичный поиск"
   ]
  },
  {
   "cell_type": "markdown",
   "metadata": {},
   "source": [
    "Пусть у нас есть функция $f$. Требуется найти её минимум. Можно воспользовать троичным поиском."
   ]
  },
  {
   "cell_type": "code",
   "execution_count": 209,
   "metadata": {},
   "outputs": [],
   "source": [
    "def ternar_search (f, left, right):\n",
    "    # inv f(left) функция убывает, f(right) возрастает\n",
    "    \n",
    "    while right - left > 1e-2:\n",
    "        m1 = (left*2+right)/3\n",
    "        m2 = (left+2*right)/3\n",
    "        if f(m1) < f(m2):\n",
    "            right = m2\n",
    "        else: \n",
    "            left = m1\n",
    "        \n",
    "    return (left+right)/2"
   ]
  },
  {
   "cell_type": "code",
   "execution_count": 211,
   "metadata": {},
   "outputs": [
    {
     "data": {
      "text/plain": [
       "0.0008194352364261121"
      ]
     },
     "execution_count": 211,
     "metadata": {},
     "output_type": "execute_result"
    }
   ],
   "source": [
    "ternar_search (xx, -2, 2)"
   ]
  },
  {
   "cell_type": "code",
   "execution_count": null,
   "metadata": {},
   "outputs": [],
   "source": []
  }
 ],
 "metadata": {
  "kernelspec": {
   "display_name": "Python 3",
   "language": "python",
   "name": "python3"
  },
  "language_info": {
   "codemirror_mode": {
    "name": "ipython",
    "version": 3
   },
   "file_extension": ".py",
   "mimetype": "text/x-python",
   "name": "python",
   "nbconvert_exporter": "python",
   "pygments_lexer": "ipython3",
   "version": "3.6.9"
  }
 },
 "nbformat": 4,
 "nbformat_minor": 4
}
