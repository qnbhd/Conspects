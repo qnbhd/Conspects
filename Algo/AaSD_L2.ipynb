{
 "cells": [
  {
   "cell_type": "markdown",
   "metadata": {},
   "source": [
    "## Лекция 2. Структуры данных"
   ]
  },
  {
   "cell_type": "markdown",
   "metadata": {},
   "source": [
    "Структуры данных нужны для быстрого выполнения каких-либо действий."
   ]
  },
  {
   "cell_type": "markdown",
   "metadata": {},
   "source": [
    "Рассмотрим такую структуру данных, как $\\textbf{куча}$\n",
    "В куче можно хранить любые элементы, для которых определена операция $x \\leq y$"
   ]
  },
  {
   "cell_type": "markdown",
   "metadata": {},
   "source": [
    "Нам необходимы операции:\n",
    "\n",
    "    - insert (x)\n",
    "    - get_min ()\n",
    "    - remove_min ()"
   ]
  },
  {
   "cell_type": "markdown",
   "metadata": {},
   "source": [
    "Попробуем несколько вариантов реализации кучи. \n",
    "\n",
    "1 Вариант (тупой). Будем хранить, как массив, его реализация операций: (a - массив, n - его длина)\n",
    "\n",
    "    insert (x):\n",
    "        a[n++] = x\n",
    "    \n",
    "    get_min ():\n",
    "        m = +inf\n",
    "        for i in range(n):\n",
    "            m = min (m, a[i])\n",
    "        return m\n",
    "        \n",
    "    remove_min ():\n",
    "        idx_min = 0\n",
    "        \n",
    "        for i in range(n):\n",
    "            if a[i] < a[idx_min]:\n",
    "                idx_min = i\n",
    "        swap (a[idx_min], a[-1])\n",
    "        n -= 1\n",
    "        \n",
    "чтобы чуть-чуть улучшить структуру, давайте хранить индекс текущего минимума, ведь get_min каждый раз его ищет\n",
    "приведу реализацию в таком виде"
   ]
  },
  {
   "cell_type": "code",
   "execution_count": 60,
   "metadata": {},
   "outputs": [],
   "source": [
    "class Heap_1: \n",
    "    \n",
    "    def __init__ (self):\n",
    "        self.min_idx = 0\n",
    "        self.length = 0\n",
    "        self.container = list()\n",
    "        \n",
    "    def insert (self, x):\n",
    "        self.container.append(x)\n",
    "        self.length += 1\n",
    "        self.min_idx = self.min_idx if self.container[self.min_idx] < self.container[self.length-1] else self.length-1\n",
    "        \n",
    "    def get_min (self):\n",
    "        return self.container[self.min_idx]\n",
    "    \n",
    "    def remove_min (self):\n",
    "        if self.length < 1:\n",
    "            return\n",
    "        self.container[self.min_idx], self.container[self.length - 1] = self.container[self.length - 1], self.container[self.min_idx]\n",
    "        self.container.pop(-1)\n",
    "        self.min_idx = 0\n",
    "        for i in range(len(self.container)):\n",
    "            if self.container[i] < self.container[self.min_idx]:\n",
    "                self.min_idx = i\n",
    "        self.length -= 1"
   ]
  },
  {
   "cell_type": "code",
   "execution_count": 61,
   "metadata": {},
   "outputs": [],
   "source": [
    "hp = Heap_1()"
   ]
  },
  {
   "cell_type": "code",
   "execution_count": 62,
   "metadata": {},
   "outputs": [],
   "source": [
    "hp.insert(1)"
   ]
  },
  {
   "cell_type": "code",
   "execution_count": 52,
   "metadata": {},
   "outputs": [],
   "source": [
    "hp.insert(2)"
   ]
  },
  {
   "cell_type": "code",
   "execution_count": 53,
   "metadata": {},
   "outputs": [],
   "source": [
    "hp.insert(10)"
   ]
  },
  {
   "cell_type": "code",
   "execution_count": 54,
   "metadata": {},
   "outputs": [],
   "source": [
    "hp.insert(15)"
   ]
  },
  {
   "cell_type": "code",
   "execution_count": 55,
   "metadata": {},
   "outputs": [
    {
     "data": {
      "text/plain": [
       "1"
      ]
     },
     "execution_count": 55,
     "metadata": {},
     "output_type": "execute_result"
    }
   ],
   "source": [
    "hp.get_min()"
   ]
  },
  {
   "cell_type": "code",
   "execution_count": 56,
   "metadata": {},
   "outputs": [],
   "source": [
    "hp.insert(-10)"
   ]
  },
  {
   "cell_type": "code",
   "execution_count": 57,
   "metadata": {},
   "outputs": [
    {
     "data": {
      "text/plain": [
       "-10"
      ]
     },
     "execution_count": 57,
     "metadata": {},
     "output_type": "execute_result"
    }
   ],
   "source": [
    "hp.get_min()"
   ]
  },
  {
   "cell_type": "code",
   "execution_count": 58,
   "metadata": {},
   "outputs": [],
   "source": [
    "hp.remove_min()"
   ]
  },
  {
   "cell_type": "code",
   "execution_count": 59,
   "metadata": {},
   "outputs": [
    {
     "data": {
      "text/plain": [
       "1"
      ]
     },
     "execution_count": 59,
     "metadata": {},
     "output_type": "execute_result"
    }
   ],
   "source": [
    "hp.get_min()"
   ]
  },
  {
   "cell_type": "code",
   "execution_count": 63,
   "metadata": {},
   "outputs": [],
   "source": [
    "class Heap_2:\n",
    "    \"\"\"Будем хранить в отсортированном массиве\"\"\"\n",
    "    \n",
    "    def __init__ (self):\n",
    "        self.container = list()\n",
    "    \n",
    "    def insert (self, x):\n",
    "        self.container.append(x)\n",
    "        i = len(self.container) - 1\n",
    "        \n",
    "        while i > 0 and self.container[i] > self.container[i-1]:\n",
    "            self.container[i], self.container[i-1] = self.container[i-1], self.container[i]\n",
    "            i -= 1\n",
    "    \n",
    "    def get_min (self):\n",
    "        return self.container[-1]\n",
    "    \n",
    "    def remove_min (self):\n",
    "        self.container.pop(-1)"
   ]
  },
  {
   "cell_type": "code",
   "execution_count": 64,
   "metadata": {},
   "outputs": [],
   "source": [
    "hp2 = Heap_2()"
   ]
  },
  {
   "cell_type": "code",
   "execution_count": 65,
   "metadata": {},
   "outputs": [],
   "source": [
    "hp.insert(1)"
   ]
  },
  {
   "cell_type": "code",
   "execution_count": 66,
   "metadata": {},
   "outputs": [],
   "source": [
    "hp.insert(-1)"
   ]
  },
  {
   "cell_type": "code",
   "execution_count": 67,
   "metadata": {},
   "outputs": [],
   "source": [
    "hp.insert(23)"
   ]
  },
  {
   "cell_type": "code",
   "execution_count": 68,
   "metadata": {},
   "outputs": [],
   "source": [
    "hp.insert(27)"
   ]
  },
  {
   "cell_type": "code",
   "execution_count": 69,
   "metadata": {},
   "outputs": [
    {
     "data": {
      "text/plain": [
       "-1"
      ]
     },
     "execution_count": 69,
     "metadata": {},
     "output_type": "execute_result"
    }
   ],
   "source": [
    "hp.get_min()"
   ]
  },
  {
   "cell_type": "code",
   "execution_count": 70,
   "metadata": {},
   "outputs": [],
   "source": [
    "hp.remove_min()"
   ]
  },
  {
   "cell_type": "code",
   "execution_count": 71,
   "metadata": {},
   "outputs": [
    {
     "data": {
      "text/plain": [
       "1"
      ]
     },
     "execution_count": 71,
     "metadata": {},
     "output_type": "execute_result"
    }
   ],
   "source": [
    "hp.get_min()"
   ]
  },
  {
   "cell_type": "markdown",
   "metadata": {},
   "source": [
    "Теперь рассмотрим такое понятие, как двоичная куча."
   ]
  },
  {
   "cell_type": "markdown",
   "metadata": {},
   "source": [
    "![sa](img/bin_tree.png)"
   ]
  },
  {
   "cell_type": "code",
   "execution_count": 188,
   "metadata": {},
   "outputs": [],
   "source": [
    "class BinHeap_3: \n",
    "    \n",
    "    def __init__ (self):\n",
    "        self.container = list()\n",
    "        self.n = 0\n",
    "    \n",
    "    def insert (self, x):\n",
    "        self.container.append(x)\n",
    "        self.n += 1\n",
    "        i = len(self.container) - 1\n",
    "        while i > 0 and self.container[i] < self.container[(i-1)//2]:\n",
    "            self.container[i], self.container[(i-1)//2] = self.container[(i-1)//2], self.container[i]\n",
    "            i = (i-1)//2\n",
    "            \n",
    "    def get_min (self):\n",
    "        return self.container[0]\n",
    "    \n",
    "            \n",
    "    def remove_min (self):\n",
    "        if self.n < 1:\n",
    "            return\n",
    "        \n",
    "        self.container[0] = self.container[-1]\n",
    "        self.container.pop(-1)\n",
    "        self.n -= 1\n",
    "        i = 0\n",
    "        \n",
    "        while True:\n",
    "            j = i\n",
    "            if 2*i+1 < self.n and self.container[2*i+1] < self.container[j]:\n",
    "                j = 2*i + 1\n",
    "            if 2*i+2 < self.n and self.container[2*i+2] < self.container[j]:\n",
    "                j = 2*i + 2\n",
    "            if i == j: \n",
    "                break\n",
    "            self.container[i], self.container[j] = self.container[j], self.container[i]\n",
    "            i = j\n",
    "            \n"
   ]
  },
  {
   "cell_type": "code",
   "execution_count": 189,
   "metadata": {},
   "outputs": [],
   "source": [
    "bin_heap = BinHeap_3()"
   ]
  },
  {
   "cell_type": "code",
   "execution_count": 191,
   "metadata": {},
   "outputs": [],
   "source": [
    "bin_heap.insert(1), bin_heap.insert(-5), bin_heap.insert(10), bin_heap.insert(20), bin_heap.insert(5),\n",
    "bin_heap.insert(7)"
   ]
  },
  {
   "cell_type": "markdown",
   "metadata": {},
   "source": [
    "В данном случае, куча устроена как двоичное дерево, операции здесь работают за O(1), O(logN), O(logN)"
   ]
  },
  {
   "cell_type": "code",
   "execution_count": 192,
   "metadata": {},
   "outputs": [],
   "source": [
    "def heap_sort (A: list):\n",
    "    heap = BinHeap_3()\n",
    "    for i in A:\n",
    "        heap.insert(i)\n",
    "    for j in range(len(A)):\n",
    "        A[j] = heap.get_min()\n",
    "        heap.remove_min()"
   ]
  },
  {
   "cell_type": "code",
   "execution_count": 193,
   "metadata": {},
   "outputs": [
    {
     "data": {
      "text/plain": [
       "[-7, -4, -1, 1, 1, 3, 3, 5, 5, 11, 27, 99]"
      ]
     },
     "execution_count": 193,
     "metadata": {},
     "output_type": "execute_result"
    }
   ],
   "source": [
    "z = [-4,5,1,3,27,11,5,99,1,-1,-7,3]\n",
    "\n",
    "heap_sort(z)\n",
    "\n",
    "z"
   ]
  },
  {
   "cell_type": "markdown",
   "metadata": {},
   "source": [
    "Сложность данной сортировки, очевидно O(n log n). Сильно быстрее сделать не получится!"
   ]
  },
  {
   "cell_type": "code",
   "execution_count": null,
   "metadata": {},
   "outputs": [],
   "source": []
  }
 ],
 "metadata": {
  "kernelspec": {
   "display_name": "Python 3",
   "language": "python",
   "name": "python3"
  },
  "language_info": {
   "codemirror_mode": {
    "name": "ipython",
    "version": 3
   },
   "file_extension": ".py",
   "mimetype": "text/x-python",
   "name": "python",
   "nbconvert_exporter": "python",
   "pygments_lexer": "ipython3",
   "version": "3.6.9"
  }
 },
 "nbformat": 4,
 "nbformat_minor": 4
}
