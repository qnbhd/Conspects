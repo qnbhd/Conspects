{
 "cells": [
  {
   "cell_type": "markdown",
   "metadata": {},
   "source": [
    "# Динамическое программирование 1"
   ]
  },
  {
   "cell_type": "markdown",
   "metadata": {},
   "source": [
    "Рассмотрим числа Фибоначчи.\n",
    "$F_1=F_2=1$. Далее они вычисляются следующим образом: $F_n=F_{n-1}+F_{n-2}$\n",
    "\n",
    "Напишем плохой метод вычисления:"
   ]
  },
  {
   "cell_type": "code",
   "execution_count": 1,
   "metadata": {},
   "outputs": [],
   "source": [
    "def fib(n: int) -> int:\n",
    "    return 1 if n <= 2 else fib(n-2) + fib(n-1)"
   ]
  },
  {
   "cell_type": "code",
   "execution_count": 5,
   "metadata": {},
   "outputs": [
    {
     "data": {
      "text/plain": [
       "6765"
      ]
     },
     "execution_count": 5,
     "metadata": {},
     "output_type": "execute_result"
    }
   ],
   "source": [
    "fib(20)"
   ]
  },
  {
   "cell_type": "markdown",
   "metadata": {},
   "source": [
    "Он очень медленный, потому что мы пересчитываем по несколько раз одни и те же значения $F_n$. Будем сохранять значения."
   ]
  },
  {
   "cell_type": "code",
   "execution_count": 7,
   "metadata": {},
   "outputs": [],
   "source": [
    "N = 100\n",
    "res = [-1] * N\n",
    "def fib(n: int) -> int:\n",
    "    if n <= 2:\n",
    "        return 1\n",
    "    if res[n] != -1:\n",
    "        return res[n]\n",
    "    res[n] = fib(n-2) + fib(n-1)\n",
    "    return res[n]"
   ]
  },
  {
   "cell_type": "code",
   "execution_count": 8,
   "metadata": {},
   "outputs": [
    {
     "data": {
      "text/plain": [
       "6765"
      ]
     },
     "execution_count": 8,
     "metadata": {},
     "output_type": "execute_result"
    }
   ],
   "source": [
    "fib(20)"
   ]
  },
  {
   "cell_type": "code",
   "execution_count": 9,
   "metadata": {},
   "outputs": [
    {
     "data": {
      "text/plain": [
       "12586269025"
      ]
     },
     "execution_count": 9,
     "metadata": {},
     "output_type": "execute_result"
    }
   ],
   "source": [
    "fib(50)"
   ]
  },
  {
   "cell_type": "markdown",
   "metadata": {},
   "source": [
    "Этот метод уже быстрее, но написан не красиво. В стиле <b>ленивого динамического программирования</b>. Напишем простой способ."
   ]
  },
  {
   "cell_type": "code",
   "execution_count": 12,
   "metadata": {},
   "outputs": [],
   "source": [
    "def fib(n: int) -> int:\n",
    "    res = [0] * (n+1)\n",
    "    res[1] = res[2] = 1\n",
    "    for i in range(3, n+1):\n",
    "        res[i] = res[i-1] + res[i-2]\n",
    "    return res[n]"
   ]
  },
  {
   "cell_type": "code",
   "execution_count": 13,
   "metadata": {},
   "outputs": [
    {
     "data": {
      "text/plain": [
       "12586269025"
      ]
     },
     "execution_count": 13,
     "metadata": {},
     "output_type": "execute_result"
    }
   ],
   "source": [
    "fib(50)"
   ]
  },
  {
   "cell_type": "markdown",
   "metadata": {},
   "source": [
    "Рассмотрим классическую задачу динамического программирования: кузнечика. Пусть есть какое-то поле длины $N-1$ и есть кузнечик, который находится в 0 клетке. Ему можно прыгать на 1 или 2 клетки вперёд. Необходимо найти количество способов добрать до клетки $N-1$. \n",
    "\n",
    "Рассмотрим клетку с номером $i$ в нее можно попасть из клеток $i-1$, $i-2$. Предположим, мы уже знаем сколько способов добрать до данных клеток, тогда можно написать рекурсивное соотношение \n",
    "$$F_i = F_{i-1}+F_{i-2}$$\n",
    "Полагая, что $F_0=0$\n",
    "\n",
    "Таким образом проходясь по всем клеткам до $N-1$ получим необходимый ответ.\n",
    "\n",
    "Будем усложнять задачу, допустим кузнечик может прыгать не более чем на $k$ клеток вперёд. Тогда соотношение примет вид:\n",
    "\n",
    "$$F_i = \\sum\\limits_{j=1}^k F_{i-j}$$\n",
    "\n",
    "Также пусть будут существовать такие клетки, в которые прыгать нельзя, будем в них класть просто $0$. Это будет некоторым маркером.\n",
    "\n",
    "<b>Замечание</b> Кстати говоря такие реккурентные соотношения мы умеем решать аналитически. То есть восстанавливать форму общего члена. Таким образом была выведена <b>формула Бине</b>. Решаются они с помощью введения характеристического многочлена $P(\\lambda)$ или с помощью <b>производящих функций</b>\n",
    "\n",
    "Напишем вариант решения данной задачи:\n"
   ]
  },
  {
   "cell_type": "code",
   "execution_count": 19,
   "metadata": {},
   "outputs": [
    {
     "name": "stdout",
     "output_type": "stream",
     "text": [
      "504\n"
     ]
    }
   ],
   "source": [
    "N = 20\n",
    "k = 2\n",
    "F = [0] * N\n",
    "A = [1] * N\n",
    "F[0] = 1\n",
    "\n",
    "# клетки, в которые нельзя\n",
    "A[4] = 0\n",
    "A[11] = 0\n",
    "\n",
    "for i in range(1, N):\n",
    "    if A[i] == 0:\n",
    "        F[i] = 0\n",
    "    else:\n",
    "        for j in range(1, k+1):\n",
    "            if i - j >= 0:\n",
    "                F[i] += F[i-j]\n",
    "\n",
    "print(F[i])"
   ]
  },
  {
   "cell_type": "markdown",
   "metadata": {},
   "source": [
    "Возможно, в коде я допускаю где-то небольшие ошибки, но главное понять идею. Да, этот код также ускоряется до $O(N\\cdot k)$ хранением предыдущих сумм.\n",
    "\n",
    "Теперь рассмотрим задачу, когда в каждой клетке соответствовать некоторая стоимость. Стоимость наступить на $i$-тую клетку будет записана в $c_i$ массива $c$.\n",
    "Теперь необходимо также пробегаться по массиву и записывать следующую величину:\n",
    "\n",
    "$$d_i = \\min\\limits_{j=1\\dots k}[d_{i-j}+c_i]$$\n",
    "\n",
    "Если в клетку невозможно попасть, будем просто присваивать ей $+\\infty$ в массиве стоимостей $c$."
   ]
  },
  {
   "cell_type": "markdown",
   "metadata": {},
   "source": [
    "Следующим усложнением будет следующая идея: пусть мы стоим в клетке $i$, в неё мы попали из клетки $i-j$, то есть длина предыдущего хода была равна $j$. Теперь мы можем попасть только в клетки $i+j-1, i+j, i+j+1$. То есть теперь текущий ход будет зависеть от того, как мы сходили в предыдущий раз."
   ]
  },
  {
   "cell_type": "code",
   "execution_count": null,
   "metadata": {},
   "outputs": [],
   "source": []
  }
 ],
 "metadata": {
  "kernelspec": {
   "display_name": "Python 3",
   "language": "python",
   "name": "python3"
  },
  "language_info": {
   "codemirror_mode": {
    "name": "ipython",
    "version": 3
   },
   "file_extension": ".py",
   "mimetype": "text/x-python",
   "name": "python",
   "nbconvert_exporter": "python",
   "pygments_lexer": "ipython3",
   "version": "3.7.6"
  }
 },
 "nbformat": 4,
 "nbformat_minor": 4
}
