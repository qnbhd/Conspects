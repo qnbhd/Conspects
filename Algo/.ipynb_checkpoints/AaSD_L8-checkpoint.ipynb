{
 "cells": [
  {
   "cell_type": "markdown",
   "metadata": {},
   "source": [
    "# Фибоначчиева куча"
   ]
  },
  {
   "cell_type": "markdown",
   "metadata": {},
   "source": [
    "Как мы знаем, с кучей можно делать следующие операции\n",
    "\n",
    "<ul>\n",
    "    <li>$\\operatorname{Insert(x)}$ умеем за $O(\\log n)$</li>\n",
    "    <li>$\\operatorname{GetMin()}$ или $\\operatorname{GetMax()}$ за $O(1)$</li>\n",
    "    <li>$\\operatorname{RemoveMin()}$ или $\\operatorname{RemoveMax()}$ за $O(\\log n)$</li>\n",
    "    <li>$\\operatorname{Merge(H_1, H_2)}$ точно умеем за $O(n)$</li>\n",
    "    <li>$\\operatorname{DecreaseKey(x, key)}$ за $O(\\log n)$</li>\n",
    "</ul>\n",
    "\n",
    "Мы хотим ускорить $\\operatorname{Insert(x), Merge(H_1, H_2), DecreaseKey(x, key)}$ \n",
    "    "
   ]
  },
  {
   "cell_type": "markdown",
   "metadata": {},
   "source": [
    "Для начала рассмотрим <b>Биноминальную кучу</b>. Биноминальная куча строится рекурсивно. \n",
    "\n",
    "![alt text](https://neerc.ifmo.ru/wiki/images/b/b3/BinHeapExample.png)"
   ]
  },
  {
   "cell_type": "markdown",
   "metadata": {},
   "source": [
    "$B_0$ - дерево состоящее из одного узла.\n",
    "$B_1$ - дерево состоящее из двух узлов.\n",
    "$B_k$ состоит из двух биномиальных деревьев $B_{k−1}$, связанных вместе таким образом, что корень одного из них является дочерним узлом корня второго дерева.\n",
    "\n",
    "Простейшее свойство биноминальной кучи: \n",
    "<ul>\n",
    "    <li>$B_k$ содержит $2^k$ вершин.</li>\n",
    "    <li>У $B_k$ $k$ вершин</li>\n",
    "</ul>\n",
    "\n",
    "Куча на $n$ вершинах строится по принципу соединения биноминальных деревьев.\n",
    "То есть мы выбираем набор $B$ таких $k$\n",
    "\n",
    "$$\n",
    "    \\sum \\limits_{k \\in B} |B_k| = n\n",
    "$$\n",
    "\n"
   ]
  },
  {
   "cell_type": "markdown",
   "metadata": {},
   "source": [
    "Биноминальной кучей называется множество биноминальных деревьев.\n",
    "Выглядит это примерно вот так:\n",
    "![img2](img/binomial_heap.png)\n",
    "\n",
    "Естественно, в каждом поддереве сохраняется свойство кучи. На картинке представлена куча на 11 элементах. Куча на $n$ элементах всегда топологически выглядит одинаково.\n"
   ]
  },
  {
   "cell_type": "markdown",
   "metadata": {},
   "source": [
    "Как выполнить $\\operatorname{Merge(H_1,H_2)}$? Предположим что у нас есть такие кучи:\n",
    "(поддеревья обозначены треугольниками, в которых написаны их ранги ($B_k$)."
   ]
  },
  {
   "cell_type": "code",
   "execution_count": null,
   "metadata": {},
   "outputs": [],
   "source": []
  }
 ],
 "metadata": {
  "kernelspec": {
   "display_name": "Python 3",
   "language": "python",
   "name": "python3"
  },
  "language_info": {
   "codemirror_mode": {
    "name": "ipython",
    "version": 3
   },
   "file_extension": ".py",
   "mimetype": "text/x-python",
   "name": "python",
   "nbconvert_exporter": "python",
   "pygments_lexer": "ipython3",
   "version": "3.7.6"
  }
 },
 "nbformat": 4,
 "nbformat_minor": 4
}
