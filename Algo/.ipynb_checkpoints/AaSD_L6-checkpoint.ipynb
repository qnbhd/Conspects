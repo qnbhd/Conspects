{
 "cells": [
  {
   "cell_type": "markdown",
   "metadata": {},
   "source": [
    "# Стеки, очереди. Амортизированное время.\n"
   ]
  },
  {
   "cell_type": "markdown",
   "metadata": {},
   "source": [
    "Создадим один большой массив. Как сделать стэк?\n",
    "Давайте хранить элементы с 0 до n-1."
   ]
  },
  {
   "cell_type": "code",
   "execution_count": null,
   "metadata": {},
   "outputs": [],
   "source": [
    "class PrimitiveStack:\n",
    "    \n",
    "    def __init__(self):\n",
    "        self.array = [ ]\n",
    "        \n",
    "    def push(self, x):\n",
    "        self.array.append(x)\n",
    "        \n",
    "    def pop(self):\n",
    "        if len(self.array) > 1:\n",
    "            return self.array.pop(-1)"
   ]
  },
  {
   "cell_type": "code",
   "execution_count": 9,
   "metadata": {},
   "outputs": [],
   "source": [
    "ps = PrimitiveStack()"
   ]
  },
  {
   "cell_type": "code",
   "execution_count": 10,
   "metadata": {},
   "outputs": [],
   "source": [
    "ps.push(1)"
   ]
  },
  {
   "cell_type": "code",
   "execution_count": 11,
   "metadata": {},
   "outputs": [],
   "source": [
    "ps.push(3)"
   ]
  },
  {
   "cell_type": "code",
   "execution_count": 12,
   "metadata": {},
   "outputs": [
    {
     "data": {
      "text/plain": [
       "3"
      ]
     },
     "execution_count": 12,
     "metadata": {},
     "output_type": "execute_result"
    }
   ],
   "source": [
    "ps.pop()"
   ]
  },
  {
   "cell_type": "code",
   "execution_count": 15,
   "metadata": {},
   "outputs": [],
   "source": [
    "ps.pop()"
   ]
  },
  {
   "cell_type": "markdown",
   "metadata": {},
   "source": [
    "Очередь желательно циклить, если делать на массиве."
   ]
  },
  {
   "cell_type": "markdown",
   "metadata": {},
   "source": [
    "У памяти комьютера можно попросить какой-то кусок памяти. \n",
    "Как \"malloc\", \"new\" - будем считать, что это он делает за О(1)."
   ]
  },
  {
   "cell_type": "markdown",
   "metadata": {},
   "source": [
    "Пусть у нас есть какой-то массив длины n, мы кладем туда элементы и вдруг там оказалось n элементов. А что делать дальше? Мы выделим еще один кусок памяти больше размера, перекопируем всё туда и добавляем новый элемент х. "
   ]
  },
  {
   "cell_type": "markdown",
   "metadata": {},
   "source": [
    "Для стека, допустим\n",
    "\n",
    "    def push(x):\n",
    "        if n = a.length:\n",
    "            a' = new int[2*n]\n",
    "            copy(a, a', n)\n",
    "            a = a'\n",
    "        a[n++] = x"
   ]
  },
  {
   "cell_type": "markdown",
   "metadata": {},
   "source": [
    "В худшем случаем работает за $O(n)$. Но эта оценка плохая. Не каждый же раз массив переполняется.\n",
    "Когда-то работает за $O(n)$, а когда-то за $O(1)$"
   ]
  },
  {
   "cell_type": "markdown",
   "metadata": {},
   "source": [
    "Для таких структур данных используется $\\textbf{амортизированное}$ время работы. \n",
    "Пусть $T(O_i)$ - время работы $i$-той операции."
   ]
  },
  {
   "cell_type": "markdown",
   "metadata": {},
   "source": [
    "Введём $\\tilde{T}(O_i)$ - амортизированное время работы. Для него должно выполняться следующее свойство:\n",
    "\n",
    "$\\sum\\limits_{i=1}^n T(O_i) \\leq \\sum \\limits_{i=1}^n \\tilde{T}(O_i)$"
   ]
  },
  {
   "cell_type": "markdown",
   "metadata": {},
   "source": [
    "Амортизационный анализ (англ. amortized analysis) — метод подсчёта времени, требуемого для выполнения последовательности операций над структурой данных. При этом время усредняется по всем выполняемым операциям, и анализируется средняя производительность операций в худшем случае."
   ]
  },
  {
   "cell_type": "markdown",
   "metadata": {},
   "source": [
    "Рассмотрим для вектора. Рассмотрим операцию \n",
    "    - push(x)\n",
    "\n",
    "Пусть мы выполнили:\n",
    "\n",
    "$push_1, push_2, \\dots, push_n$\n",
    "\n",
    "    def push(x): \n",
    "        if n = a.length:\n",
    "            a' = new int[2*n]   { этот блок выполняется 1+2+4+...+2^(x-1)\n",
    "            copy(a, a', n)\n",
    "            a = a'\n",
    "        a[n++] = x { k операций }\n",
    "       \n",
    "      \n",
    "Пусть $x$ - это первое такое число, что $2^{x}$ > k, но при этом $2^{x-1} < k$\n",
    "\n",
    "\n",
    "$1+2+4+...+2^{x-1} \\leq 2^x = 2\\cdot2^{x-1} = 2k$\n",
    "\n",
    "    a[n++] = x { k операций }\n",
    "    \n",
    "Следовательно, \n",
    "\n",
    "\n",
    "$\\sum \\limits_{i=1}^k T(push_i) \\leq 3k \\implies \\tilde{T}(O_i) = 3$\n",
    "\n"
   ]
  },
  {
   "cell_type": "code",
   "execution_count": null,
   "metadata": {},
   "outputs": [],
   "source": []
  },
  {
   "cell_type": "markdown",
   "metadata": {},
   "source": [
    "## Метод потенциала\n",
    "\n",
    "Назовём $\\Phi$ - потенциалом структуры данных. Каждая операция меняет потенциал.\n",
    "Положим, $\\Phi_0 = 0$. \n",
    "\n",
    "Скажем, что $\\tilde{T}(O_i)=T(O_i)+\\Delta\\Phi_i$.\n",
    "\n"
   ]
  },
  {
   "cell_type": "code",
   "execution_count": null,
   "metadata": {},
   "outputs": [],
   "source": []
  },
  {
   "cell_type": "code",
   "execution_count": null,
   "metadata": {},
   "outputs": [],
   "source": []
  },
  {
   "cell_type": "code",
   "execution_count": null,
   "metadata": {},
   "outputs": [],
   "source": []
  }
 ],
 "metadata": {
  "kernelspec": {
   "display_name": "Python 3",
   "language": "python",
   "name": "python3"
  },
  "language_info": {
   "codemirror_mode": {
    "name": "ipython",
    "version": 3
   },
   "file_extension": ".py",
   "mimetype": "text/x-python",
   "name": "python",
   "nbconvert_exporter": "python",
   "pygments_lexer": "ipython3",
   "version": "3.6.9"
  }
 },
 "nbformat": 4,
 "nbformat_minor": 4
}
