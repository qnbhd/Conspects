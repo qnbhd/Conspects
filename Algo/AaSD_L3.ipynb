{
 "cells": [
  {
   "cell_type": "markdown",
   "metadata": {},
   "source": [
    "# Лекция 3. Быстрая сортировка"
   ]
  },
  {
   "cell_type": "code",
   "execution_count": 130,
   "metadata": {},
   "outputs": [],
   "source": [
    "def split (a, l, r, x):\n",
    "    m = l\n",
    "    for i in range(l,r):\n",
    "        if a[i] <= x:\n",
    "            a[i], a[m] = a[m], a[i]\n",
    "            m += 1\n",
    "    a[i], a[r-1] = a[r-1], a[i]\n",
    "    return m"
   ]
  },
  {
   "cell_type": "code",
   "execution_count": 131,
   "metadata": {},
   "outputs": [],
   "source": [
    "import random\n",
    "def quick_sort (a, l, r):\n",
    "    if r - l <= 1:\n",
    "        return\n",
    "    x = random.choice(a)\n",
    "    m = split (a, l, r, x)\n",
    "    quick_sort(a, l, m)\n",
    "    quick_sort(a, m, r)"
   ]
  },
  {
   "cell_type": "code",
   "execution_count": 132,
   "metadata": {},
   "outputs": [],
   "source": [
    "a = [1,5,9,7,3,6,4]\n",
    "\n",
    "quick_sort(a, 0, len(a))"
   ]
  },
  {
   "cell_type": "code",
   "execution_count": 133,
   "metadata": {},
   "outputs": [
    {
     "data": {
      "text/plain": [
       "[1, 3, 4, 5, 6, 7, 9]"
      ]
     },
     "execution_count": 133,
     "metadata": {},
     "output_type": "execute_result"
    }
   ],
   "source": [
    "a"
   ]
  },
  {
   "cell_type": "markdown",
   "metadata": {},
   "source": [
    "но сортировка ломается при наличии одинаковых элементов"
   ]
  },
  {
   "cell_type": "code",
   "execution_count": 98,
   "metadata": {},
   "outputs": [],
   "source": [
    "def split (a, l, r):\n",
    "    x = a[(l+r)//2]\n",
    "    i = l - 1\n",
    "    j = r\n",
    "    \n",
    "    while True:\n",
    "        i += 1\n",
    "        \n",
    "        while a[i] < x:\n",
    "            i += 1\n",
    "        \n",
    "        j -= 1\n",
    "        while a[j] > x:\n",
    "            j -= 1\n",
    "            \n",
    "        if i >= j:\n",
    "            return (i, j)\n",
    "        \n",
    "        a[i], a[j] = a[j], a[i]"
   ]
  },
  {
   "cell_type": "code",
   "execution_count": 99,
   "metadata": {},
   "outputs": [],
   "source": [
    "import random\n",
    "def quick_sort (a, l, r):\n",
    "    if r - l <= 1:\n",
    "        return\n",
    "    left, right = split (a, l, r)\n",
    "    print(left, right)\n",
    "    quick_sort(a, l, left)\n",
    "    quick_sort(a, left, right)\n",
    "    quick_sort(a, right, r)"
   ]
  },
  {
   "cell_type": "code",
   "execution_count": 118,
   "metadata": {},
   "outputs": [],
   "source": [
    "def partition(arr,low,high, pivot): \n",
    "    i = ( low-1 )\n",
    "    pivot = arr[high]\n",
    "    for j in range(low , high): \n",
    "        if   arr[j] <= pivot: \n",
    "            i = i+1 \n",
    "            arr[i],arr[j] = arr[j],arr[i] \n",
    "  \n",
    "    arr[i+1],arr[high] = arr[high],arr[i+1] \n",
    "    return ( i+1 ) \n",
    "  \n",
    "\n",
    "def quickSort(arr,low,high): \n",
    "    if low < high: \n",
    "        pivot = arr[random.randint(low, high-1)]\n",
    "        pi = partition(arr,low,high, pivot) \n",
    "        quickSort(arr, low, pi-1) \n",
    "        quickSort(arr, pi+1, high) "
   ]
  },
  {
   "cell_type": "code",
   "execution_count": 119,
   "metadata": {},
   "outputs": [],
   "source": [
    "quickSort(a, 0, len(a)-1)"
   ]
  },
  {
   "cell_type": "code",
   "execution_count": 120,
   "metadata": {},
   "outputs": [
    {
     "data": {
      "text/plain": [
       "[1, 3, 3, 4, 5, 6, 7, 9]"
      ]
     },
     "execution_count": 120,
     "metadata": {},
     "output_type": "execute_result"
    }
   ],
   "source": [
    "a"
   ]
  },
  {
   "cell_type": "markdown",
   "metadata": {},
   "source": [
    "# k-порядковая статистика"
   ]
  },
  {
   "cell_type": "markdown",
   "metadata": {},
   "source": [
    "Предположим, у нас есть массив размера $n$. Мы хотим получить элемент по индексу $k$ в отсортированном массиве."
   ]
  },
  {
   "cell_type": "markdown",
   "metadata": {},
   "source": [
    "Конечно, можно его отсортировать за $O(n log n)$ а затем взять k элемент."
   ]
  },
  {
   "cell_type": "code",
   "execution_count": 138,
   "metadata": {},
   "outputs": [],
   "source": [
    "def split (a, l, r, x):\n",
    "    m = l\n",
    "    for i in range(l,r):\n",
    "        if a[i] <= x:\n",
    "            a[i], a[m] = a[m], a[i]\n",
    "            m += 1\n",
    "    a[i], a[r-1] = a[r-1], a[i]\n",
    "    return m\n",
    "\n",
    "def finds (a, l, r, k):\n",
    "    if r - l <= 1:\n",
    "        return a[k]\n",
    "    pivot = a[random.randint(l, r-1)]\n",
    "    m = split(a, l, r, pivot)\n",
    "    if k < m:\n",
    "        return finds(a, l, m, k)\n",
    "    else:\n",
    "        return finds(a, m, r, k)"
   ]
  },
  {
   "cell_type": "code",
   "execution_count": 139,
   "metadata": {},
   "outputs": [
    {
     "data": {
      "text/plain": [
       "4"
      ]
     },
     "execution_count": 139,
     "metadata": {},
     "output_type": "execute_result"
    }
   ],
   "source": [
    "z = [6,7,-1,3,5,9,4,2,11]\n",
    "\n",
    "finds(z, 0, len(z)-1, 3)"
   ]
  },
  {
   "cell_type": "code",
   "execution_count": 141,
   "metadata": {},
   "outputs": [
    {
     "data": {
      "text/plain": [
       "[-1, 2, 3, 4, 5, 6, 7, 9, 11]"
      ]
     },
     "execution_count": 141,
     "metadata": {},
     "output_type": "execute_result"
    }
   ],
   "source": [
    "sorted(z)"
   ]
  },
  {
   "cell_type": "code",
   "execution_count": null,
   "metadata": {},
   "outputs": [],
   "source": []
  }
 ],
 "metadata": {
  "kernelspec": {
   "display_name": "Python 3",
   "language": "python",
   "name": "python3"
  },
  "language_info": {
   "codemirror_mode": {
    "name": "ipython",
    "version": 3
   },
   "file_extension": ".py",
   "mimetype": "text/x-python",
   "name": "python",
   "nbconvert_exporter": "python",
   "pygments_lexer": "ipython3",
   "version": "3.6.9"
  }
 },
 "nbformat": 4,
 "nbformat_minor": 4
}
