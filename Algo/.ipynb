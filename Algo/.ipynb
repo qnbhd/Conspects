{
 "cells": [
  {
   "cell_type": "markdown",
   "metadata": {},
   "source": [
    "# Система непересекающихся множеств"
   ]
  },
  {
   "cell_type": "markdown",
   "metadata": {},
   "source": [
    "$\\def\\Union{\\operatorname{Union}}$\n",
    "$\\def\\Find{\\operatorname{Find}}$\n",
    "$\\def\\MakeSet{\\operatorname{MakeSet}}$\n",
    "\n",
    "![Иллюстрация к проекту](https://habrastorage.org/storage/6cf7f9c4/e6848578/0bf0505b/5d3ded44.png)"
   ]
  },
  {
   "cell_type": "markdown",
   "metadata": {},
   "source": [
    "Система непересекающихся множеств - иерархическая структура данных, позволяющая эффективно работать с множествами."
   ]
  },
  {
   "cell_type": "markdown",
   "metadata": {},
   "source": [
    "В самом начале есть лишь разбросанные элементы, которые по сути являются множествами из одного элемента. Будут введены две операции: $\\Union(x, y), \\Find(x), \\MakeSet(x)$\n",
    "\n",
    "$\\Union(x, y)$ - будет объединять два множества в одно, а $\\Find(x)$ - говорить в каком множестве лежит $х$. Точнее, мы будем выбирать какого-то представителя множества и на $\\Find$ выдавать именно его. Представителем множества может являться любой элемент множества.\n",
    "$\\MakeSet(x)$ - создаёт множество из одного элемента $x$.\n",
    "    \n",
    "Рассмотрим несколько вариантов реализации данной структуры данных.\n"
   ]
  },
  {
   "cell_type": "markdown",
   "metadata": {},
   "source": [
    "Первый вариант. Создадим массив $\\mathcal{P}$, где $\\mathcal{P}_i$ - представитель множества, в котором содержится элемент $i$. Нумерация с 1."
   ]
  },
  {
   "cell_type": "code",
   "execution_count": 1,
   "metadata": {},
   "outputs": [],
   "source": [
    "class DisjointSetForest_Naive1:\n",
    "    \n",
    "    def __init__(self): \n",
    "        self.p = list()\n",
    "        \n",
    "    def MakeSet(self, x): \n",
    "        self.p.append(x) -> <= >= == != \n",
    "        \n",
    "    def Find(self, x):\n",
    "        if x < len(self.p):\n",
    "            return self.p[x-1]\n",
    "    \n",
    "    def Print(self):\n",
    "        print(self.p)\n",
    "    \n",
    "    def Union(self, x, y):\n",
    "        x, y = self.Find(x), self.Find(y)\n",
    "        if x == y:\n",
    "            pass\n",
    "        for i in range(len(self.p)):\n",
    "            if self.p[i] == x:\n",
    "                self.p[i] = y"
   ]
  },
  {
   "cell_type": "code",
   "execution_count": 2,
   "metadata": {},
   "outputs": [],
   "source": [
    "dsf = DisjointSetForest_Naive1()"
   ]
  },
  {
   "cell_type": "code",
   "execution_count": 3,
   "metadata": {},
   "outputs": [],
   "source": [
    "dsf.MakeSet(1)"
   ]
  },
  {
   "cell_type": "code",
   "execution_count": 4,
   "metadata": {},
   "outputs": [
    {
     "name": "stdout",
     "output_type": "stream",
     "text": [
      "[1]\n"
     ]
    }
   ],
   "source": [
    "dsf.Print()"
   ]
  },
  {
   "cell_type": "code",
   "execution_count": 5,
   "metadata": {},
   "outputs": [],
   "source": [
    "dsf.MakeSet(2)"
   ]
  },
  {
   "cell_type": "code",
   "execution_count": 6,
   "metadata": {},
   "outputs": [],
   "source": [
    "dsf.MakeSet(3)\n",
    "dsf.MakeSet(4)\n",
    "dsf.MakeSet(5)\n",
    "dsf.MakeSet(6)\n",
    "dsf.MakeSet(7)"
   ]
  },
  {
   "cell_type": "code",
   "execution_count": 7,
   "metadata": {},
   "outputs": [
    {
     "name": "stdout",
     "output_type": "stream",
     "text": [
      "[1, 2, 3, 4, 5, 6, 7]\n"
     ]
    }
   ],
   "source": [
    "dsf.Print()"
   ]
  },
  {
   "cell_type": "code",
   "execution_count": 8,
   "metadata": {},
   "outputs": [
    {
     "data": {
      "text/plain": [
       "3"
      ]
     },
     "execution_count": 8,
     "metadata": {},
     "output_type": "execute_result"
    }
   ],
   "source": [
    "dsf.Find(3)"
   ]
  },
  {
   "cell_type": "code",
   "execution_count": 9,
   "metadata": {},
   "outputs": [],
   "source": [
    "dsf.Union(1, 3)"
   ]
  },
  {
   "cell_type": "code",
   "execution_count": 10,
   "metadata": {},
   "outputs": [
    {
     "name": "stdout",
     "output_type": "stream",
     "text": [
      "[3, 2, 3, 4, 5, 6, 7]\n"
     ]
    }
   ],
   "source": [
    "dsf.Print()"
   ]
  },
  {
   "cell_type": "code",
   "execution_count": 11,
   "metadata": {},
   "outputs": [],
   "source": [
    "dsf.Union(4, 5)"
   ]
  },
  {
   "cell_type": "code",
   "execution_count": 13,
   "metadata": {},
   "outputs": [],
   "source": [
    "dsf.Union(6, 5)"
   ]
  },
  {
   "cell_type": "code",
   "execution_count": 14,
   "metadata": {},
   "outputs": [
    {
     "name": "stdout",
     "output_type": "stream",
     "text": [
      "[3, 2, 3, 5, 5, 5, 7]\n"
     ]
    }
   ],
   "source": [
    "dsf.Print()"
   ]
  },
  {
   "cell_type": "markdown",
   "metadata": {},
   "source": [
    "Также можно хранить \"списки подчиненных\" для каждой вершины. И использовать хак с подвязкой по размеру. Выгоднее будет подвязывать маленькие множества к большим. Так как пробегаться в итоге нужно будет по меньшему количеству."
   ]
  }
 ],
 "metadata": {
  "kernelspec": {
   "display_name": "Python 3",
   "language": "python",
   "name": "python3"
  },
  "language_info": {
   "codemirror_mode": {
    "name": "ipython",
    "version": 3
   },
   "file_extension": ".py",
   "mimetype": "text/x-python",
   "name": "python",
   "nbconvert_exporter": "python",
   "pygments_lexer": "ipython3",
   "version": "3.7.6"
  }
 },
 "nbformat": 4,
 "nbformat_minor": 4
}
